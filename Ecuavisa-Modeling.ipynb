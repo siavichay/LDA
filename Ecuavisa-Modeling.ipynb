{
 "cells": [
  {
   "cell_type": "markdown",
   "metadata": {},
   "source": [
    "PROCESAMIENTO DE LENGUAGE NATURAL\n",
    "===\n",
    "ANALISIS DE TÓPICOS\n",
    "Latent Dirichlet allocation (LDA)\n",
    "Por: Alexander Siavichay\n",
    "\n",
    "Latent Dirichlet allocation (LDA), permite clasificar textos contenidos en un documento en tópicos. Construye el tópico desde un modelo de documento y palabras desde modelos de tópicos \n",
    "\n",
    "Se utiliza la librería gensim y spacy, \"spaCy es una biblioteca para el procesamiento avanzado de lenguaje natural en Python y Cython\".\n",
    "\n",
    "Previamente se realizó un trabajo de análsis de texto con gensim, sin embargo, se vió que los resultados en español no eran del todo efectivos.\n",
    "\n",
    "En consecuencia, se propuso realizar un análisis de tópicos de un canal de noticias ecuatoriano muy conocido, Ecuavisa. A partir de un tratamiento html de su página web, se pudo obtener con un get con 16000 noticias para ser analizadas.\n",
    "\n"
   ]
  },
  {
   "cell_type": "markdown",
   "metadata": {},
   "source": [
    "## ANTECEDENTES\n",
    "\n",
    "Ecuavisa es un canal que tiene entre sus espacios televisivos, uno  dedicado exclusivamente al reporte de noticias. En su pagina web no se evidencia una clasificacion de las noticias que se exponen, por ello, en nuestro caso haremos una clasificacion utilizando herramientas de procesamiento de lenguage natural\n",
    "\n",
    "Para poder orientar los resultados, se analizó otros medios que hacen una clasificación, resultando en \n",
    "- 1. Política\n",
    "- 2. Economía\n",
    "- 3. Internacional\n",
    "- 4. Nacional\n",
    "- 5. Seguridad\n",
    "- 6. Actualidad\n",
    "- 7. Crónica\n",
    "- 8. Deportes"
   ]
  },
  {
   "cell_type": "markdown",
   "metadata": {},
   "source": [
    "## Obtención del corpus de datos\n"
   ]
  },
  {
   "cell_type": "code",
   "execution_count": 37,
   "metadata": {},
   "outputs": [],
   "source": [
    "\n",
    "import requests\n",
    "from bs4 import BeautifulSoup\n",
    "\n",
    "#Tomamos 5232 noticias de ecuavisa, cada enlace tiene 16 noticias de los 326 enlaces disponibles\n",
    "i=0\n",
    "enlaces=[]\n",
    "url=\"http://ecuavisa.com/historico/noticias/nacional?page=\"\n",
    "while i<=326:\n",
    "    r=requests.get(url+str(i))\n",
    "    enlaces.append(r)\n",
    "    i+=1\n"
   ]
  },
  {
   "cell_type": "markdown",
   "metadata": {},
   "source": [
    "## Almacenamiento del corpus obtenido en un svc"
   ]
  },
  {
   "cell_type": "code",
   "execution_count": 38,
   "metadata": {},
   "outputs": [
    {
     "name": "stdout",
     "output_type": "stream",
     "text": [
      "5232  noticias encontradas\n",
      "Feriados de 2020: Ecuador tendrá 27 días de descanso\n"
     ]
    }
   ],
   "source": [
    "from sklearn import svm\n",
    "from sklearn import datasets\n",
    "data = svm.SVC()\n",
    "#Vectorizamos cada noticia en los 100 enlaces\n",
    "noticias=[]\n",
    "\n",
    "for enlace in enlaces:\n",
    "    soup = BeautifulSoup(enlace.content, 'html.parser')\n",
    "    contenido=soup.find_all(\"span\",class_=\"field-content\")\n",
    "    for noticia in contenido:\n",
    "        texto=noticia.find(\"a\").get_text().strip()\n",
    "        noticias.append((texto))\n",
    "        \n",
    "print(len(noticias),\" noticias encontradas\")\n",
    "print(noticias[0])"
   ]
  },
  {
   "cell_type": "code",
   "execution_count": 39,
   "metadata": {},
   "outputs": [],
   "source": [
    "#Guardamos los resultados en un svc\n",
    "import numpy\n",
    "\n",
    "numpy.savetxt(\"ecuavisa.csv\", noticias, fmt=\"%s\")"
   ]
  },
  {
   "cell_type": "markdown",
   "metadata": {},
   "source": [
    "## Carga de datos con pandas"
   ]
  },
  {
   "cell_type": "code",
   "execution_count": 40,
   "metadata": {},
   "outputs": [
    {
     "name": "stdout",
     "output_type": "stream",
     "text": [
      "                                                Noticia\n",
      "0     Feriados de 2020: Ecuador tendrá 27 días de de...\n",
      "1     Piden declarar héroe a niño que salvó a otros ...\n",
      "2                                               Limpias\n",
      "3     Personas que abusen sexualmente de menores no ...\n",
      "4     Consumo de gasolina Súper se redujo un 40% en ...\n",
      "5     ¿Por qué Odebrecht no ha sido procesada en Ecu...\n",
      "6     Asamblea aprueba publicación de reformas tribu...\n",
      "7     Deslizamiento en vía Alóag-Sto. Domingo afecta...\n",
      "8     Hombre mata con una puñalada a exconviviente e...\n",
      "9     Agreden a vigilante con machete en el cantón Y...\n",
      "10                   Figuras de superhéroes y políticos\n",
      "11    Guayaquil registró la precipitación más alta a...\n",
      "12    Seis fallecidos por dos accidente al sur de Quito\n",
      "13    Reportan récord de temperatura máxima en Guaya...\n",
      "14    Dos sismos se registraron en el archipiélago d...\n",
      "15    Presidente Moreno indulta a 8 personas privada...\n",
      "16    Gobierno destaca leve reducción de desnutrició...\n",
      "17    Un muerto y 13 heridos tras deslizamiento en v...\n",
      "18    Ecuador entrega cerca de 11.000 visados humani...\n",
      "19    Investigan la muerte de cóndor hembra juvenil ...\n",
      "20    Más 500 metropolitanos para operativos segurid...\n",
      "21    Unos $717 millones en área petrolera en Ecuado...\n",
      "22    Exportaciones no petroleras de Ecuador termina...\n",
      "23                    Municiones y precursores químicos\n",
      "24    Más de 4.000 agentes de la CTE en operativos d...\n",
      "25    Ecuatoriano detenido con 715 kg de cocaína en ...\n",
      "26    Sindicalistas tildan de \"limosna\" el alza sala...\n",
      "27    Gasolineras de Guayaquil venderán combustible ...\n",
      "28    Intento de asalto a blindado en Carcelén deja ...\n",
      "29    Gobierno fija en $400 el Salario Básico Unific...\n",
      "...                                                 ...\n",
      "5202  El inicio de campaña de Correa coincidió con l...\n",
      "5203             Fiscalía investiga a concejal de Manta\n",
      "5204  Comisión de Fiscalización determina que no es ...\n",
      "5205  El frío ártico sigue congelando el este de EEU...\n",
      "5206  CNE habilita la línea telefónica 150 para cons...\n",
      "5207  Comisión de Fiscalización sesiona este domingo...\n",
      "5208  Designación de nueva vicepresidenta de la Repú...\n",
      "5209  María Alejandra Vicuña: \"Dialogar no es dobleg...\n",
      "5210  Asambleístas se ratifican en censurar actuació...\n",
      "5211  Correa abre campaña contra la consulta popular...\n",
      "5212                             Con 70 votos positivos\n",
      "5213                                         Sismo de 4\n",
      "5214     La entrega de créditos de la CFN aumentó el 27\n",
      "5215  La vía Progreso  Playas ahora tiene manejo es...\n",
      "5216  Comisión se allanó a mayoría de observaciones ...\n",
      "5217  Ministerio de Salud desmiente audios sobre pre...\n",
      "5218  Armada Nacional ascendió a tres oficiales en c...\n",
      "5219  Accidente de avioneta deja un herido en Esmera...\n",
      "5220                                                Hoy\n",
      "5221  Arroz plástico preocupa a ciudadanos y causa...\n",
      "5222  Inversión por 560 millones en el país se concr...\n",
      "5223  Policía impulsa campaña de entrega de armas en...\n",
      "5224  Hospital neumológico Alfredo Valenzuela perman...\n",
      "5225  El Plan Nacional de Empleo involucra nuevas re...\n",
      "5226  Frente Amplio Progresista que agrupa a más de ...\n",
      "5227  Incidentes en cárceles por disputas entre band...\n",
      "5228  Rinden versión menores que habrían sufrido abu...\n",
      "5229  CELEC y Petroamazonas firman dos convenios de ...\n",
      "5230  Asamblea Nacional debate este jueves reformas ...\n",
      "5231  Armada descarta tsunami tras recogimiento del ...\n",
      "\n",
      "[5232 rows x 1 columns]\n"
     ]
    }
   ],
   "source": [
    "'''\n",
    "Load the dataset from the CSV and save it to 'data_text'\n",
    "'''\n",
    "import pandas as pd\n",
    "data = pd.read_csv('ecuavisa.csv',encoding = \"ISO-8859-1\",header=None,usecols=[0], names=['Noticia']);\n",
    "data_text = data;#[['Noticia']]; \n",
    "print(data_text)\n",
    "# We only need the Headlines text column from the data\n",
    "#data_text = data[['headline_text']];"
   ]
  },
  {
   "cell_type": "code",
   "execution_count": 41,
   "metadata": {},
   "outputs": [
    {
     "name": "stdout",
     "output_type": "stream",
     "text": [
      "                                                Noticia  index\n",
      "0     Feriados de 2020: Ecuador tendrá 27 días de de...      0\n",
      "1     Piden declarar héroe a niño que salvó a otros ...      1\n",
      "2                                               Limpias      2\n",
      "3     Personas que abusen sexualmente de menores no ...      3\n",
      "4     Consumo de gasolina Súper se redujo un 40% en ...      4\n",
      "5     ¿Por qué Odebrecht no ha sido procesada en Ecu...      5\n",
      "6     Asamblea aprueba publicación de reformas tribu...      6\n",
      "7     Deslizamiento en vía Alóag-Sto. Domingo afecta...      7\n",
      "8     Hombre mata con una puñalada a exconviviente e...      8\n",
      "9     Agreden a vigilante con machete en el cantón Y...      9\n",
      "10                   Figuras de superhéroes y políticos     10\n",
      "11    Guayaquil registró la precipitación más alta a...     11\n",
      "12    Seis fallecidos por dos accidente al sur de Quito     12\n",
      "13    Reportan récord de temperatura máxima en Guaya...     13\n",
      "14    Dos sismos se registraron en el archipiélago d...     14\n",
      "15    Presidente Moreno indulta a 8 personas privada...     15\n",
      "16    Gobierno destaca leve reducción de desnutrició...     16\n",
      "17    Un muerto y 13 heridos tras deslizamiento en v...     17\n",
      "18    Ecuador entrega cerca de 11.000 visados humani...     18\n",
      "19    Investigan la muerte de cóndor hembra juvenil ...     19\n",
      "20    Más 500 metropolitanos para operativos segurid...     20\n",
      "21    Unos $717 millones en área petrolera en Ecuado...     21\n",
      "22    Exportaciones no petroleras de Ecuador termina...     22\n",
      "23                    Municiones y precursores químicos     23\n",
      "24    Más de 4.000 agentes de la CTE en operativos d...     24\n",
      "25    Ecuatoriano detenido con 715 kg de cocaína en ...     25\n",
      "26    Sindicalistas tildan de \"limosna\" el alza sala...     26\n",
      "27    Gasolineras de Guayaquil venderán combustible ...     27\n",
      "28    Intento de asalto a blindado en Carcelén deja ...     28\n",
      "29    Gobierno fija en $400 el Salario Básico Unific...     29\n",
      "...                                                 ...    ...\n",
      "5202  El inicio de campaña de Correa coincidió con l...   5202\n",
      "5203             Fiscalía investiga a concejal de Manta   5203\n",
      "5204  Comisión de Fiscalización determina que no es ...   5204\n",
      "5205  El frío ártico sigue congelando el este de EEU...   5205\n",
      "5206  CNE habilita la línea telefónica 150 para cons...   5206\n",
      "5207  Comisión de Fiscalización sesiona este domingo...   5207\n",
      "5208  Designación de nueva vicepresidenta de la Repú...   5208\n",
      "5209  María Alejandra Vicuña: \"Dialogar no es dobleg...   5209\n",
      "5210  Asambleístas se ratifican en censurar actuació...   5210\n",
      "5211  Correa abre campaña contra la consulta popular...   5211\n",
      "5212                             Con 70 votos positivos   5212\n",
      "5213                                         Sismo de 4   5213\n",
      "5214     La entrega de créditos de la CFN aumentó el 27   5214\n",
      "5215  La vía Progreso  Playas ahora tiene manejo es...   5215\n",
      "5216  Comisión se allanó a mayoría de observaciones ...   5216\n",
      "5217  Ministerio de Salud desmiente audios sobre pre...   5217\n",
      "5218  Armada Nacional ascendió a tres oficiales en c...   5218\n",
      "5219  Accidente de avioneta deja un herido en Esmera...   5219\n",
      "5220                                                Hoy   5220\n",
      "5221  Arroz plástico preocupa a ciudadanos y causa...   5221\n",
      "5222  Inversión por 560 millones en el país se concr...   5222\n",
      "5223  Policía impulsa campaña de entrega de armas en...   5223\n",
      "5224  Hospital neumológico Alfredo Valenzuela perman...   5224\n",
      "5225  El Plan Nacional de Empleo involucra nuevas re...   5225\n",
      "5226  Frente Amplio Progresista que agrupa a más de ...   5226\n",
      "5227  Incidentes en cárceles por disputas entre band...   5227\n",
      "5228  Rinden versión menores que habrían sufrido abu...   5228\n",
      "5229  CELEC y Petroamazonas firman dos convenios de ...   5229\n",
      "5230  Asamblea Nacional debate este jueves reformas ...   5230\n",
      "5231  Armada descarta tsunami tras recogimiento del ...   5231\n",
      "\n",
      "[5232 rows x 2 columns]\n"
     ]
    }
   ],
   "source": [
    "'''\n",
    "Add an index column to the dataset and save the dataset as 'documents'\n",
    "'''\n",
    "data_text['index'] =data.index\n",
    "documents = data_text\n",
    "print (data_text)"
   ]
  },
  {
   "cell_type": "code",
   "execution_count": 42,
   "metadata": {},
   "outputs": [
    {
     "name": "stdout",
     "output_type": "stream",
     "text": [
      "5232\n"
     ]
    }
   ],
   "source": [
    "'''\n",
    "Get the total number of documents\n",
    "'''\n",
    "print(len(documents))"
   ]
  },
  {
   "cell_type": "code",
   "execution_count": 44,
   "metadata": {},
   "outputs": [
    {
     "name": "stdout",
     "output_type": "stream",
     "text": [
      "\n",
      "**Printing out a sample document:**\n",
      "                                                Noticia  index\n",
      "3000  Se requieren $650 millones para reparar los 5 ...   3000\n"
     ]
    }
   ],
   "source": [
    "'''\n",
    "Preview a document and assign the index value to 'document_num'\n",
    "'''\n",
    "document_num = 3000\n",
    "print(\"\\n**Printing out a sample document:**\")\n",
    "print(documents[documents['index'] == document_num])"
   ]
  },
  {
   "cell_type": "code",
   "execution_count": 45,
   "metadata": {},
   "outputs": [
    {
     "data": {
      "text/plain": [
       "'Se requieren $650 millones para reparar los 5 proyectos petroleros analizados por ONU'"
      ]
     },
     "execution_count": 45,
     "metadata": {},
     "output_type": "execute_result"
    }
   ],
   "source": [
    "'''\n",
    "Seperate the value of the headline from the document selected with 'document_num'\n",
    "'''\n",
    "documents.Noticia[document_num]"
   ]
  },
  {
   "cell_type": "code",
   "execution_count": 46,
   "metadata": {},
   "outputs": [],
   "source": [
    "'''\n",
    "Loading Gensim and nltk libraries\n",
    "'''\n",
    "#pip install gensim\n",
    "import gensim\n",
    "from gensim.utils import simple_preprocess\n",
    "#from gensim.parsing.preprocessing import STOPWORDS\n",
    "#from nltk.stem import WordNetLemmatizer, SnowballStemmer\n",
    "#from nltk.stem.porter import *\n",
    "import numpy as np\n",
    "np.random.seed(400)"
   ]
  },
  {
   "cell_type": "code",
   "execution_count": null,
   "metadata": {},
   "outputs": [],
   "source": [
    "#import nltk\n",
    "#nltk.download()"
   ]
  },
  {
   "cell_type": "code",
   "execution_count": 47,
   "metadata": {},
   "outputs": [],
   "source": [
    "#pip install -U spacy\n",
    "import spacy\n",
    "from spacy import displacy\n",
    "from spacy.lang.es.stop_words import STOP_WORDS"
   ]
  },
  {
   "cell_type": "code",
   "execution_count": 48,
   "metadata": {},
   "outputs": [
    {
     "name": "stdout",
     "output_type": "stream",
     "text": [
      "Quito Quito NOUN NOUN__Gender=Masc|Number=Sing nsubj Xxxxx True False\n",
      "5\n",
      "enciende encender VERB VERB__Mood=Ind|Number=Sing|Person=3|Tense=Pres|VerbForm=Fin ROOT xxxx True False\n",
      "4\n",
      "luces luz NOUN NOUN__Gender=Fem|Number=Plur obj xxxx True False\n",
      "3\n",
      "navideñas navideño ADJ ADJ__Gender=Fem|Number=Plur amod xxxx True False\n",
      "4\n",
      "en en ADP ADP__AdpType=Prep case xx True True\n",
      "4\n",
      "su su DET DET__Number=Sing|Person=3|Poss=Yes|PronType=Prs det xx True True\n",
      "3\n",
      "centro centrar NOUN NOUN__Gender=Masc|Number=Sing obl xxxx True False\n",
      "3\n"
     ]
    }
   ],
   "source": [
    "'''\n",
    "Lemmatizing example for a verb, noun.\n",
    "'''\n",
    "#Se necesita instalar python -m spacy download es_core_news_sm\n",
    "\n",
    "\n",
    "nlp = spacy.load('es_core_news_sm')\n",
    "doc = nlp(\"Quito enciende luces navideñas en su centro\")\n",
    "for token in doc:\n",
    "    print(token.text, token.lemma_, token.pos_, token.tag_, token.dep_,\n",
    "            token.shape_, token.is_alpha, token.is_stop)\n",
    "    print(len(token.dep_))\n"
   ]
  },
  {
   "cell_type": "code",
   "execution_count": 49,
   "metadata": {},
   "outputs": [],
   "source": [
    "'''\n",
    "Write a function to perform the pre processing steps on the entire dataset\n",
    "'''\n",
    "def preprocessSpacy(doc):\n",
    "    doc=nlp(doc)\n",
    "    result=[]\n",
    "    for token in doc:\n",
    "        if not token.is_stop and len(token.text)>3:\n",
    "            result.append(token.lemma_)\n",
    "            #print(token.text, token.lemma_, token.pos_, token.tag_, token.dep_,\n",
    "            #    token.shape_, token.is_alpha, token.is_stop)\n",
    "        \n",
    "    return result"
   ]
  },
  {
   "cell_type": "code",
   "execution_count": 50,
   "metadata": {},
   "outputs": [
    {
     "name": "stdout",
     "output_type": "stream",
     "text": [
      "Original document: \n",
      "['Se', 'requieren', '$650', 'millones', 'para', 'reparar', 'los', '5', 'proyectos', 'petroleros', 'analizados', 'por', 'ONU']\n",
      "\n",
      "\n",
      "Tokenized and lemmatized document: \n",
      "['requerir', 'millón', 'reparar', 'proyecto', 'petrolero', 'analizar']\n"
     ]
    }
   ],
   "source": [
    "'''\n",
    "Preview a document after preprocessing\n",
    "'''\n",
    "\n",
    "doc_sample = documents[documents['index'] == document_num].values[0][0]\n",
    "\n",
    "print(\"Original document: \")\n",
    "words = []\n",
    "for word in doc_sample.split(' '):\n",
    "    words.append(word)\n",
    "print(words)\n",
    "print(\"\\n\\nTokenized and lemmatized document: \")\n",
    "#print(preprocess(doc_sample))\n",
    "print(preprocessSpacy(doc_sample))\n"
   ]
  },
  {
   "cell_type": "code",
   "execution_count": 51,
   "metadata": {},
   "outputs": [],
   "source": [
    "'''\n",
    "Save the values of the headlines into a variable 'training_headlines' from 'documents'\n",
    "'''\n",
    "training_headlines =documents.Noticia[:]"
   ]
  },
  {
   "cell_type": "code",
   "execution_count": 52,
   "metadata": {},
   "outputs": [
    {
     "data": {
      "text/plain": [
       "0       Feriados de 2020: Ecuador tendrá 27 días de de...\n",
       "1       Piden declarar héroe a niño que salvó a otros ...\n",
       "2                                                 Limpias\n",
       "3       Personas que abusen sexualmente de menores no ...\n",
       "4       Consumo de gasolina Súper se redujo un 40% en ...\n",
       "5       ¿Por qué Odebrecht no ha sido procesada en Ecu...\n",
       "6       Asamblea aprueba publicación de reformas tribu...\n",
       "7       Deslizamiento en vía Alóag-Sto. Domingo afecta...\n",
       "8       Hombre mata con una puñalada a exconviviente e...\n",
       "9       Agreden a vigilante con machete en el cantón Y...\n",
       "10                     Figuras de superhéroes y políticos\n",
       "11      Guayaquil registró la precipitación más alta a...\n",
       "12      Seis fallecidos por dos accidente al sur de Quito\n",
       "13      Reportan récord de temperatura máxima en Guaya...\n",
       "14      Dos sismos se registraron en el archipiélago d...\n",
       "15      Presidente Moreno indulta a 8 personas privada...\n",
       "16      Gobierno destaca leve reducción de desnutrició...\n",
       "17      Un muerto y 13 heridos tras deslizamiento en v...\n",
       "18      Ecuador entrega cerca de 11.000 visados humani...\n",
       "19      Investigan la muerte de cóndor hembra juvenil ...\n",
       "20      Más 500 metropolitanos para operativos segurid...\n",
       "21      Unos $717 millones en área petrolera en Ecuado...\n",
       "22      Exportaciones no petroleras de Ecuador termina...\n",
       "23                      Municiones y precursores químicos\n",
       "24      Más de 4.000 agentes de la CTE en operativos d...\n",
       "25      Ecuatoriano detenido con 715 kg de cocaína en ...\n",
       "26      Sindicalistas tildan de \"limosna\" el alza sala...\n",
       "27      Gasolineras de Guayaquil venderán combustible ...\n",
       "28      Intento de asalto a blindado en Carcelén deja ...\n",
       "29      Gobierno fija en $400 el Salario Básico Unific...\n",
       "                              ...                        \n",
       "5202    El inicio de campaña de Correa coincidió con l...\n",
       "5203               Fiscalía investiga a concejal de Manta\n",
       "5204    Comisión de Fiscalización determina que no es ...\n",
       "5205    El frío ártico sigue congelando el este de EEU...\n",
       "5206    CNE habilita la línea telefónica 150 para cons...\n",
       "5207    Comisión de Fiscalización sesiona este domingo...\n",
       "5208    Designación de nueva vicepresidenta de la Repú...\n",
       "5209    María Alejandra Vicuña: \"Dialogar no es dobleg...\n",
       "5210    Asambleístas se ratifican en censurar actuació...\n",
       "5211    Correa abre campaña contra la consulta popular...\n",
       "5212                               Con 70 votos positivos\n",
       "5213                                           Sismo de 4\n",
       "5214       La entrega de créditos de la CFN aumentó el 27\n",
       "5215    La vía Progreso  Playas ahora tiene manejo es...\n",
       "5216    Comisión se allanó a mayoría de observaciones ...\n",
       "5217    Ministerio de Salud desmiente audios sobre pre...\n",
       "5218    Armada Nacional ascendió a tres oficiales en c...\n",
       "5219    Accidente de avioneta deja un herido en Esmera...\n",
       "5220                                                  Hoy\n",
       "5221    Arroz plástico preocupa a ciudadanos y causa...\n",
       "5222    Inversión por 560 millones en el país se concr...\n",
       "5223    Policía impulsa campaña de entrega de armas en...\n",
       "5224    Hospital neumológico Alfredo Valenzuela perman...\n",
       "5225    El Plan Nacional de Empleo involucra nuevas re...\n",
       "5226    Frente Amplio Progresista que agrupa a más de ...\n",
       "5227    Incidentes en cárceles por disputas entre band...\n",
       "5228    Rinden versión menores que habrían sufrido abu...\n",
       "5229    CELEC y Petroamazonas firman dos convenios de ...\n",
       "5230    Asamblea Nacional debate este jueves reformas ...\n",
       "5231    Armada descarta tsunami tras recogimiento del ...\n",
       "Name: Noticia, Length: 5232, dtype: object"
      ]
     },
     "execution_count": 52,
     "metadata": {},
     "output_type": "execute_result"
    }
   ],
   "source": [
    "'''\n",
    "Preview 'training_headlines'\n",
    "'''\n",
    "training_headlines"
   ]
  },
  {
   "cell_type": "code",
   "execution_count": 53,
   "metadata": {},
   "outputs": [],
   "source": [
    "processed_docs=documents['Noticia'].map(preprocessSpacy)"
   ]
  },
  {
   "cell_type": "code",
   "execution_count": 54,
   "metadata": {},
   "outputs": [
    {
     "data": {
      "text/plain": [
       "0                    [Feriados, 2020, Ecuador, descansar]\n",
       "1          [Piden, declarar, héroe, niño, salvar, chocar]\n",
       "2                                               [Limpias]\n",
       "3                  [Personas, abusar, sexualmente, menor]\n",
       "4              [Consumo, gasolina, Súper, reducir, mesar]\n",
       "5                          [Odebrecht, procesar, Ecuador]\n",
       "6       [Asamblea, aprobar, publicación, reformar, tri...\n",
       "7       [Deslizamiento, Alóag, Domingo, afecto, vehículo]\n",
       "8       [Hombre, matar, puñalada, exconviviente, Guaya...\n",
       "9         [Agreden, vigilante, machete, cantón, Yaguachi]\n",
       "10                       [Figuras, superhéroes, político]\n",
       "11      [Guayaquil, registrar, precipitación, alto, ni...\n",
       "12                         [fallecido, accidentar, Quito]\n",
       "13      [Reportan, récord, temperatura, máximo, Guayaq...\n",
       "14            [sismo, registrar, archipiélago, Galápagos]\n",
       "15      [Presidente, Moreno, indultar, personar, priva...\n",
       "16      [Gobierno, destacar, levar, reducción, desnutr...\n",
       "17             [morir, herir, deslizamiento, Baeza, Tena]\n",
       "18      [Ecuador, entregar, 11.000, visar, humanitario...\n",
       "19      [Investigan, muerte, cóndor, hembra, juvenil, ...\n",
       "20           [metropolitano, operativo, seguridad, Quito]\n",
       "21               [millón, área, petrolero, Ecuador, 2019]\n",
       "22      [Exportaciones, petrolero, Ecuador, terminar, ...\n",
       "23                       [Municiones, precursor, químico]\n",
       "24                     [4.000, agente, operativo, feriar]\n",
       "25              [Ecuatoriano, detener, cocaína, Colombia]\n",
       "26      [Sindicalistas, tildar, limosna, alzar, salari...\n",
       "27      [Gasolineras, Guayaquil, vender, combustible, ...\n",
       "28             [asaltar, blindar, Carcelén, dejar, herir]\n",
       "29      [Gobierno, fijo, Salario, Básico, Unificado, 2...\n",
       "                              ...                        \n",
       "5202    [iniciar, campaña, Correa, coincidir, designac...\n",
       "5203              [Fiscalía, investigar, concejal, Manta]\n",
       "5204    [Comisión, Fiscalización, determinar, competen...\n",
       "5205    [freír, ártico, congelar, EEUU, Canadá, temper...\n",
       "5206    [habilitar, líneo, telefónico, consultar, vota...\n",
       "5207    [Comisión, Fiscalización, sesiona, domingo, an...\n",
       "5208    [Designación, vicepresidente, República, gener...\n",
       "5209    [María, Alejandra, Vicuña, Dialogar, doblegar,...\n",
       "5210    [Asambleístas, ratificar, censurar, actuación,...\n",
       "5211    [Correa, abrir, campaña, consultar, popular, L...\n",
       "5212                                     [voto, positivo]\n",
       "5213                                              [Sismo]\n",
       "5214                        [entregar, crédito, aumentar]\n",
       "5215                 [Progreso, Playas, manejar, estatal]\n",
       "5216    [Comisión, allanar, mayoría, observación, viol...\n",
       "5217    [Ministerio, Salud, desmentir, audio, presunto...\n",
       "5218    [Armada, Nacional, ascender, oficial, ceremoni...\n",
       "5219      [Accidente, avioneta, dejar, herir, Esmeraldas]\n",
       "5220                                                   []\n",
       "5221    [Arroz, plástico, preocupar, ciudadano, caus...\n",
       "5222                 [Inversión, millón, país, concretar]\n",
       "5223    [Policía, impulsar, campaña, entregar, armar, ...\n",
       "5224    [Hospital, neumológico, Alfredo, Valenzuela, p...\n",
       "5225    [Plan, Nacional, involucrar, reformar, contrat...\n",
       "5226    [Frente, Amplio, Progresista, agrupar, organiz...\n",
       "5227    [Incidentes, cárcel, disputar, banda, preocupa...\n",
       "5228    [Rinden, versión, menor, haber, sufrir, abusar...\n",
       "5229    [CELEC, Petroamazonas, firmar, convenio, gener...\n",
       "5230    [Asamblea, Nacional, debatir, jueves, reformar...\n",
       "5231    [Armada, descartar, tsunami, recogimiento, sec...\n",
       "Name: Noticia, Length: 5232, dtype: object"
      ]
     },
     "execution_count": 54,
     "metadata": {},
     "output_type": "execute_result"
    }
   ],
   "source": [
    "'''\n",
    "Preview 'processed_docs'\n",
    "'''\n",
    "processed_docs"
   ]
  },
  {
   "cell_type": "code",
   "execution_count": 55,
   "metadata": {},
   "outputs": [],
   "source": [
    "'''\n",
    "Create a dictionary from 'processed_docs' containing the number of times a word appears in the training set using gensim.corpora.Dictionary\n",
    "and call it 'dictionary'\n",
    "'''\n",
    "dictionary = gensim.corpora.Dictionary(processed_docs)"
   ]
  },
  {
   "cell_type": "code",
   "execution_count": 57,
   "metadata": {},
   "outputs": [
    {
     "name": "stdout",
     "output_type": "stream",
     "text": [
      "0 2020\n",
      "1 Ecuador\n",
      "2 Feriados\n",
      "3 descansar\n",
      "4 Piden\n",
      "5 chocar\n",
      "6 declarar\n",
      "7 héroe\n",
      "8 niño\n",
      "9 salvar\n",
      "10 Limpias\n",
      "5548\n"
     ]
    }
   ],
   "source": [
    "'''\n",
    "Checking dictionary created\n",
    "'''\n",
    "count = 0\n",
    "for k, v in dictionary.iteritems():\n",
    "    print(k, v)\n",
    "    count += 1\n",
    "    if count > 10:\n",
    "        break\n",
    "\n",
    "print(len(dictionary))"
   ]
  },
  {
   "cell_type": "code",
   "execution_count": 61,
   "metadata": {},
   "outputs": [
    {
     "data": {
      "text/plain": [
       "1243"
      ]
     },
     "execution_count": 61,
     "metadata": {},
     "output_type": "execute_result"
    }
   ],
   "source": [
    "'''\n",
    "OPTIONAL STEP\n",
    "Remove very rare and very common words:\n",
    "\n",
    "- words appearing less than 15 times\n",
    "- words appearing in more than 10% of all documents\n",
    "'''\n",
    "dictionary.filter_extremes(no_below=5, no_above=0.1)\n",
    "len(dictionary)"
   ]
  },
  {
   "cell_type": "code",
   "execution_count": 62,
   "metadata": {},
   "outputs": [],
   "source": [
    "'''\n",
    "Create the Bag-of-words model for each document i.e for each document we create a dictionary reporting how many\n",
    "words and how many times those words appear. Save this to 'bow_corpus'\n",
    "'''\n",
    "\n",
    "bow_corpus = [dictionary.doc2bow(doc) for doc in processed_docs]"
   ]
  },
  {
   "cell_type": "code",
   "execution_count": 63,
   "metadata": {},
   "outputs": [
    {
     "data": {
      "text/plain": [
       "[(65, 1), (66, 1), (114, 1), (732, 1), (1075, 1)]"
      ]
     },
     "execution_count": 63,
     "metadata": {},
     "output_type": "execute_result"
    }
   ],
   "source": [
    "'''\n",
    "Checking Bag of Words corpus for our sample document --> (token_id, token_count)\n",
    "'''\n",
    "# document_num = 4310\n",
    "bow_corpus[document_num]"
   ]
  },
  {
   "cell_type": "code",
   "execution_count": 64,
   "metadata": {},
   "outputs": [
    {
     "name": "stdout",
     "output_type": "stream",
     "text": [
      "Word 65 (\"millón\") appears 1 time.\n",
      "Word 66 (\"petrolero\") appears 1 time.\n",
      "Word 114 (\"analizar\") appears 1 time.\n",
      "Word 732 (\"proyecto\") appears 1 time.\n",
      "Word 1075 (\"requerir\") appears 1 time.\n"
     ]
    }
   ],
   "source": [
    "'''\n",
    "Preview BOW for our sample preprocessed document\n",
    "'''\n",
    "# Here document_num is document number 4310 which we have checked in Step 2\n",
    "bow_doc_4310 = bow_corpus[document_num]\n",
    "\n",
    "for i in range(len(bow_doc_4310)):\n",
    "    print(\"Word {} (\\\"{}\\\") appears {} time.\".format(bow_doc_4310[i][0], \n",
    "                                                     dictionary[bow_doc_4310[i][0]], \n",
    "                                                     bow_doc_4310[i][1]))"
   ]
  },
  {
   "cell_type": "code",
   "execution_count": 65,
   "metadata": {},
   "outputs": [],
   "source": [
    "'''\n",
    "Create tf-idf model object using models.TfidfModel on 'bow_corpus' and save it to 'tfidf'\n",
    "'''\n",
    "from gensim import corpora, models\n",
    "tfidf = models.TfidfModel(bow_corpus)"
   ]
  },
  {
   "cell_type": "code",
   "execution_count": 66,
   "metadata": {},
   "outputs": [],
   "source": [
    "'''\n",
    "Apply transformation to the entire corpus and call it 'corpus_tfidf'\n",
    "'''\n",
    "corpus_tfidf = tfidf[bow_corpus]"
   ]
  },
  {
   "cell_type": "code",
   "execution_count": 67,
   "metadata": {},
   "outputs": [
    {
     "name": "stdout",
     "output_type": "stream",
     "text": [
      "[(0, 0.9222548025251416), (1, 0.3865825645567994)]\n"
     ]
    }
   ],
   "source": [
    "'''\n",
    "Preview TF-IDF scores for our first document --> --> (token_id, tfidf score)\n",
    "'''\n",
    "from pprint import pprint\n",
    "for doc in corpus_tfidf:\n",
    "    pprint(doc)\n",
    "    break"
   ]
  },
  {
   "cell_type": "markdown",
   "metadata": {},
   "source": [
    "RESULTADOS\n",
    "==="
   ]
  },
  {
   "cell_type": "code",
   "execution_count": 72,
   "metadata": {},
   "outputs": [],
   "source": [
    "'''\n",
    "Define lda model using tfidf corpus\n",
    "'''\n",
    "\n",
    "lda_model_tfidf = gensim.models.LdaMulticore(bow_corpus, \n",
    "                                    num_topics = 8, \n",
    "                                    id2word = dictionary,                                    \n",
    "                                    passes = 100)"
   ]
  },
  {
   "cell_type": "code",
   "execution_count": 73,
   "metadata": {},
   "outputs": [
    {
     "name": "stdout",
     "output_type": "stream",
     "text": [
      "Topic: 0 Word: 0.061*\"herir\" + 0.048*\"accidentar\" + 0.042*\"dejar\" + 0.035*\"morir\" + 0.030*\"muerto\" + 0.026*\"detenido\" + 0.021*\"drogar\" + 0.021*\"tránsito\" + 0.019*\"incendiar\" + 0.018*\"fallecido\"\n",
      "\n",
      "\n",
      "Topic: 1 Word: 0.025*\"millón\" + 0.022*\"iniciar\" + 0.020*\"Gobierno\" + 0.019*\"protestar\" + 0.018*\"reformar\" + 0.018*\"Asamblea\" + 0.017*\"Nacional\" + 0.016*\"pagar\" + 0.016*\"cerrar\" + 0.016*\"Corte\"\n",
      "\n",
      "\n",
      "Topic: 2 Word: 0.037*\"personar\" + 0.019*\"procesar\" + 0.018*\"pedir\" + 0.016*\"casar\" + 0.015*\"consultar\" + 0.015*\"caer\" + 0.014*\"Consejo\" + 0.014*\"Judicatura\" + 0.014*\"nacional\" + 0.012*\"CPCCS\"\n",
      "\n",
      "\n",
      "Topic: 3 Word: 0.024*\"Esmeraldas\" + 0.022*\"operativo\" + 0.020*\"Guayas\" + 0.017*\"juicio\" + 0.017*\"audiencia\" + 0.015*\"detenido\" + 0.015*\"político\" + 0.014*\"seguridad\" + 0.014*\"analizar\" + 0.014*\"pedir\"\n",
      "\n",
      "\n",
      "Topic: 4 Word: 0.156*\"Ecuador\" + 0.031*\"asesinar\" + 0.024*\"venezolano\" + 0.020*\"año\" + 0.016*\"frontero\" + 0.015*\"niño\" + 0.014*\"muerte\" + 0.012*\"cárcel\" + 0.010*\"violación\" + 0.010*\"Cuenca\"\n",
      "\n",
      "\n",
      "Topic: 5 Word: 0.047*\"Moreno\" + 0.030*\"robar\" + 0.027*\"Galápagos\" + 0.025*\"policía\" + 0.022*\"Correa\" + 0.018*\"casar\" + 0.016*\"banda\" + 0.015*\"versión\" + 0.014*\"rendir\" + 0.013*\"detenido\"\n",
      "\n",
      "\n",
      "Topic: 6 Word: 0.121*\"Quito\" + 0.025*\"afectar\" + 0.024*\"prisión\" + 0.018*\"preventivo\" + 0.018*\"registrar\" + 0.015*\"2019\" + 0.015*\"casar\" + 0.015*\"sexual\" + 0.014*\"lluvia\" + 0.014*\"año\"\n",
      "\n",
      "\n",
      "Topic: 7 Word: 0.038*\"ecuatoriano\" + 0.028*\"casar\" + 0.025*\"Fiscalía\" + 0.022*\"Hallan\" + 0.021*\"cuerpo\" + 0.019*\"aguar\" + 0.014*\"denunciar\" + 0.014*\"IESS\" + 0.014*\"público\" + 0.014*\"pedir\"\n",
      "\n",
      "\n"
     ]
    }
   ],
   "source": [
    "for idx, topic in lda_model_tfidf.print_topics(-1):\n",
    "    print(\"Topic: {} Word: {}\".format(idx, topic))\n",
    "    print(\"\\n\")"
   ]
  },
  {
   "cell_type": "markdown",
   "metadata": {},
   "source": [
    "### ANÁLISIS\n",
    "En los resultados anteriores tenemos los tópicos con sus conjuntos de palábras referenciales. Es momento de analizar cada tópico propuesto en los antecedentes y emparejar con los tópicos obtenidos\n",
    "\n",
    "Tópicos propuestos:\n",
    "- 1. Política\n",
    "- 2. Economía\n",
    "- 3. Internacional\n",
    "- 4. Nacional\n",
    "- 5. Seguridad\n",
    "- 6. Actualidad\n",
    "- 7. Crónica\n",
    "- 8. Deportes\n",
    "\n",
    "Emparejando con los tópicos obtenidos:\n",
    "* Tópico 0: Crónica\n",
    "* Tópico 1: Política\n",
    "* Tópico 2: *Asamblea*\n",
    "* Tópico 3: Seguridad\n",
    "* Tópico 4: *Violencia*\n",
    "* Tópico 5: *Corrupción*\n",
    "* Tópico 6: *Actualidad en Quito*\n",
    "* Tópico 7: *Policial*\n",
    "\n",
    "Como se puede observar, no necesariamente se pudo obtener los tópicos que habíamos señalado en un inicio, referenciados desde otros noticieros. Aparecen otros temas, como el de Asamblea, Violencia, Corrupción, Policial, que no habíamos considerado pero que el algoritmo nos devuelve.\n",
    "\n",
    "Con esto podríamos concluir que Ecuavisa, trata estos temas en su mayoría de noticias."
   ]
  },
  {
   "cell_type": "markdown",
   "metadata": {},
   "source": [
    "## CONCLUSIONES\n",
    "\n",
    "Como se puede observar en los resultados, los tópicos encontrados deben finalmente ser analizados por una persona del área de conocimiento. De acuerdo a nuestra hipótesis coincidimos en un 50%, sin embargo falta por hacer un análisis más profundo.\n",
    "\n",
    "El LDA, nos permite evidenciar ciertos aspectos en el análisis de textos que serían complicados de hacer con una lectura rápida de todos los temas tratados. Como recomendación, se debe tener mucho cuidado en la especificación de passes e iteraciones del algoritmo, al cambiar estos valores, los resultados varían significativamente."
   ]
  },
  {
   "cell_type": "markdown",
   "metadata": {},
   "source": [
    "## RERERENCIAS\n",
    "https://www.edureka.co/community/42836/how-to-read-pandas-csv-file-with-no-header\n",
    "\n",
    "https://medium.com/@yeralway1/primeros-pasos-en-nlp-con-spacy-un-vistazo-general-734686843a57\n",
    "\n",
    "https://radimrehurek.com/gensim/models/ldamulticore.html"
   ]
  },
  {
   "cell_type": "code",
   "execution_count": null,
   "metadata": {},
   "outputs": [],
   "source": []
  }
 ],
 "metadata": {
  "kernelspec": {
   "display_name": "Python 3",
   "language": "python",
   "name": "python3"
  },
  "language_info": {
   "codemirror_mode": {
    "name": "ipython",
    "version": 3
   },
   "file_extension": ".py",
   "mimetype": "text/x-python",
   "name": "python",
   "nbconvert_exporter": "python",
   "pygments_lexer": "ipython3",
   "version": "3.7.3"
  }
 },
 "nbformat": 4,
 "nbformat_minor": 2
}
